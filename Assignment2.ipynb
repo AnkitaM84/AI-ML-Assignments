{
 "cells": [
  {
   "cell_type": "code",
   "execution_count": 43,
   "metadata": {},
   "outputs": [
    {
     "name": "stdout",
     "output_type": "stream",
     "text": [
      "[[ 0.29341624 -0.94559871 -0.42110515  0.40681602  0.52566183]\n",
      " [-0.83608408 -0.18922804 -0.77640262 -1.05383124  0.59799685]\n",
      " [ 0.23642511  0.13283602 -0.14772298  0.69985396 -0.18736416]\n",
      " ...\n",
      " [ 1.04417694 -0.89920649  1.73039905 -1.87105676  0.44251965]\n",
      " [-1.2691729  -0.00505216  1.85766873 -1.08036482  0.73633394]\n",
      " [-1.88400025 -0.84942743 -1.45227035  0.48861308  1.4595758 ]]\n"
     ]
    }
   ],
   "source": [
    "import numpy as np\n",
    "\n",
    "Xtrain = np.genfromtxt(\"train.csv\", delimiter = \",\", usecols = range(0,5))\n",
    "Ytrain = np.genfromtxt(\"train.csv\", delimiter = \",\", usecols = range(5,6))\n",
    "\n",
    "Xtest = np.genfromtxt(\"test.csv\", delimiter = \",\")\n",
    "Xtrain = np.delete(Xtrain, 0, 0)\n",
    "print(Xtrain)\n",
    "#Xtrain = addfeatures(Xtrain)\n",
    "Ytrain = np.delete(Ytrain, 0 ,0)\n",
    "Xtest = np.delete(Xtest, 0, 0)"
   ]
  },
  {
   "cell_type": "code",
   "execution_count": 44,
   "metadata": {},
   "outputs": [],
   "source": [
    "from sklearn.linear_model import LinearRegression\n",
    "\n",
    "alg1 = LinearRegression()\n",
    "alg1.fit(Xtrain, Ytrain)\n",
    "Y_pred = alg1.predict(Xtest)\n",
    "\n",
    "np.savetxt(\"predictions_Assignment2.csv\", Y_pred, fmt = \"%.8f\")"
   ]
  }
 ],
 "metadata": {
  "kernelspec": {
   "display_name": "Python 3",
   "language": "python",
   "name": "python3"
  },
  "language_info": {
   "codemirror_mode": {
    "name": "ipython",
    "version": 3
   },
   "file_extension": ".py",
   "mimetype": "text/x-python",
   "name": "python",
   "nbconvert_exporter": "python",
   "pygments_lexer": "ipython3",
   "version": "3.8.3"
  }
 },
 "nbformat": 4,
 "nbformat_minor": 4
}
